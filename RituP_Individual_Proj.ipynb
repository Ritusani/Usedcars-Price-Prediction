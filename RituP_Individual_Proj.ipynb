{
 "cells": [
  {
   "cell_type": "markdown",
   "metadata": {},
   "source": [
    "# Predicting the Price of Used (Pre-owned) Cars\n",
    "### _By: Ritu Pardasani, W1284193_\n",
    " \n",
    "This data cotains details of over 370000 used cars scraped with Scrapy from Ebay @ Germany. The content of the data was in german, so I had to translate a few fields into English. Though it was a bit challenging, but I feel this is what it means that we never find clean excel files for our analysis. We always find data that needs a lot of work to be put into it before we can use it. Picked this data from Kaggel.com (https://www.kaggle.com/orgesleka/used-cars-database)\n",
    "\n",
    "## About the Data:\n",
    "\n",
    "The dataset consists of a single comma seperated file (autos.csv) that contains information about used car ads posted on Ebay website in Germany. \n",
    "<br>\n",
    "<br>\n",
    "autos.csv - File contains information about used cars, their price, model, brand, kms covered, year of registration etc. In simple words it contains all the details regarding a used car.\n",
    "\n",
    "There are 21 columns in the dataset and their description is as follows:\n",
    "<br>\n",
    "<br>\n",
    "<li> **dateCrawled :** When this ad was first crawled, all field-values are taken from this date</li>\n",
    "<li>**name :** \"Name\" of the car</li>\n",
    "\n",
    "<li>**seller :** Private or commercial dealer</li>\n",
    "\n",
    "<li>**offerType:** This field just has one entry \"offer\" in it, thus its not really of an use</li>\n",
    "\n",
    "<li>**price :** The price on the ad to sell the car</li>\n",
    "\n",
    "<li>**abtest:** I couldn't understand what this field is about and how is it related to the data</li>\n",
    "\n",
    "<li>**vehicleType:** Whether the vehicle is a coupe, a limosine, a small car, a SUV etc. </li>\n",
    "\n",
    "<li>**yearOfRegistration:** In which year the car was first registered</li>\n",
    "\n",
    "<li>**gearbox:** This gives information whether the car is Manual or Automatic</li>\n",
    "\n",
    "<li>**powerPS:** Power of the car in PS</li>\n",
    "\n",
    "<li>**model:** Model of the vehicle</li>\n",
    "\n",
    "<li>**kilometer:** How many kilometers the car has driven</li>\n",
    "\n",
    "<li>**monthOfRegistration:** In which month the car was first registered</li>\n",
    "\n",
    "<li>**fuelType:** It has 6 categories lpg, cng, hybrid, petrol, diesel & electric</li>\n",
    "\n",
    "<li>**brand:** The brand of the vehicle like Audi, Mercedes Benz etc.</li>\n",
    "\n",
    "<li>**notRepairedDamage:** If the car has a damage which has not been repaired yet</li>\n",
    "\n",
    "<li>**dateCreated:** The date for which the ad at ebay was created</li>\n",
    "\n",
    "<li>**nrOfPictures:** Number of pictures in the ad (unfortunately this field contains everywhere a 0 and is thus useless)</li>\n",
    "\n",
    "<li>**postalCode:** Postal code of the area where the car is located (so basically , location)</li>\n",
    "\n",
    "<li>**lastSeenOnline:** When the crawler saw this ad last online</li>"
   ]
  },
  {
   "cell_type": "markdown",
   "metadata": {},
   "source": [
    "_Note: I have ignored the fields that are not making any sense or have just one value for all the rows._"
   ]
  },
  {
   "cell_type": "markdown",
   "metadata": {},
   "source": [
    "## Preparing Data for Data Analytics\n",
    "This part includes cleaning and transforming the data into a form which I feel fit to apply the alogorithm."
   ]
  },
  {
   "cell_type": "markdown",
   "metadata": {},
   "source": [
    "<u><b>STEP 1: Importing all required libraries </b></u>\n"
   ]
  },
  {
   "cell_type": "code",
   "execution_count": 1,
   "metadata": {
    "collapsed": true
   },
   "outputs": [],
   "source": [
    "import pandas as pd #to work with dataframes\n",
    "#Following 3 imports to make graphs/plots\n",
    "import matplotlib.pyplot as plt\n",
    "import matplotlib\n",
    "import seaborn as sns\n",
    "import numpy as np\n",
    "import math\n",
    "## following two imports are for using the alogorithms \n",
    "from sklearn import datasets, linear_model, preprocessing, svm\n",
    "from sklearn.preprocessing import StandardScaler, Normalizer\n",
    "\n",
    "\n",
    "%matplotlib inline"
   ]
  },
  {
   "cell_type": "markdown",
   "metadata": {},
   "source": [
    "<u><b>STEP 2: Reading the data </b></u>\n"
   ]
  },
  {
   "cell_type": "code",
   "execution_count": 2,
   "metadata": {},
   "outputs": [
    {
     "data": {
      "text/html": [
       "<div>\n",
       "<style>\n",
       "    .dataframe thead tr:only-child th {\n",
       "        text-align: right;\n",
       "    }\n",
       "\n",
       "    .dataframe thead th {\n",
       "        text-align: left;\n",
       "    }\n",
       "\n",
       "    .dataframe tbody tr th {\n",
       "        vertical-align: top;\n",
       "    }\n",
       "</style>\n",
       "<table border=\"1\" class=\"dataframe\">\n",
       "  <thead>\n",
       "    <tr style=\"text-align: right;\">\n",
       "      <th></th>\n",
       "      <th>dateCrawled</th>\n",
       "      <th>name</th>\n",
       "      <th>seller</th>\n",
       "      <th>offerType</th>\n",
       "      <th>price</th>\n",
       "      <th>abtest</th>\n",
       "      <th>vehicleType</th>\n",
       "      <th>yearOfRegistration</th>\n",
       "      <th>gearbox</th>\n",
       "      <th>powerPS</th>\n",
       "      <th>model</th>\n",
       "      <th>kilometer</th>\n",
       "      <th>monthOfRegistration</th>\n",
       "      <th>fuelType</th>\n",
       "      <th>brand</th>\n",
       "      <th>notRepairedDamage</th>\n",
       "      <th>dateCreated</th>\n",
       "      <th>nrOfPictures</th>\n",
       "      <th>postalCode</th>\n",
       "      <th>lastSeen</th>\n",
       "    </tr>\n",
       "  </thead>\n",
       "  <tbody>\n",
       "    <tr>\n",
       "      <th>0</th>\n",
       "      <td>3/24/16 11:52</td>\n",
       "      <td>Golf_3_1.6</td>\n",
       "      <td>Private</td>\n",
       "      <td>Offer</td>\n",
       "      <td>480.0</td>\n",
       "      <td>test</td>\n",
       "      <td>NaN</td>\n",
       "      <td>1993.0</td>\n",
       "      <td>Manual</td>\n",
       "      <td>0.0</td>\n",
       "      <td>golf</td>\n",
       "      <td>150000.0</td>\n",
       "      <td>0.0</td>\n",
       "      <td>petrol</td>\n",
       "      <td>volkswagen</td>\n",
       "      <td>NaN</td>\n",
       "      <td>3/24/16 0:00</td>\n",
       "      <td>0.0</td>\n",
       "      <td>70435.0</td>\n",
       "      <td>4/7/16 3:16</td>\n",
       "    </tr>\n",
       "    <tr>\n",
       "      <th>1</th>\n",
       "      <td>3/24/16 10:58</td>\n",
       "      <td>A5_Sportback_2.7_Tdi</td>\n",
       "      <td>Private</td>\n",
       "      <td>Offer</td>\n",
       "      <td>18300.0</td>\n",
       "      <td>test</td>\n",
       "      <td>coupe</td>\n",
       "      <td>2011.0</td>\n",
       "      <td>Manual</td>\n",
       "      <td>190.0</td>\n",
       "      <td>NaN</td>\n",
       "      <td>125000.0</td>\n",
       "      <td>5.0</td>\n",
       "      <td>diesel</td>\n",
       "      <td>audi</td>\n",
       "      <td>Yes</td>\n",
       "      <td>3/24/16 0:00</td>\n",
       "      <td>0.0</td>\n",
       "      <td>66954.0</td>\n",
       "      <td>4/7/16 1:46</td>\n",
       "    </tr>\n",
       "    <tr>\n",
       "      <th>2</th>\n",
       "      <td>3/14/16 12:52</td>\n",
       "      <td>Jeep_Grand_Cherokee_\"Overland\"</td>\n",
       "      <td>Private</td>\n",
       "      <td>Offer</td>\n",
       "      <td>9800.0</td>\n",
       "      <td>test</td>\n",
       "      <td>suv</td>\n",
       "      <td>2004.0</td>\n",
       "      <td>Automatic</td>\n",
       "      <td>163.0</td>\n",
       "      <td>grand</td>\n",
       "      <td>125000.0</td>\n",
       "      <td>8.0</td>\n",
       "      <td>diesel</td>\n",
       "      <td>jeep</td>\n",
       "      <td>NaN</td>\n",
       "      <td>3/14/16 0:00</td>\n",
       "      <td>0.0</td>\n",
       "      <td>90480.0</td>\n",
       "      <td>4/5/16 12:47</td>\n",
       "    </tr>\n",
       "    <tr>\n",
       "      <th>3</th>\n",
       "      <td>3/17/16 16:54</td>\n",
       "      <td>GOLF_4_1_4__3TRER</td>\n",
       "      <td>Private</td>\n",
       "      <td>Offer</td>\n",
       "      <td>1500.0</td>\n",
       "      <td>test</td>\n",
       "      <td>Small car</td>\n",
       "      <td>2001.0</td>\n",
       "      <td>Manual</td>\n",
       "      <td>75.0</td>\n",
       "      <td>golf</td>\n",
       "      <td>150000.0</td>\n",
       "      <td>6.0</td>\n",
       "      <td>petrol</td>\n",
       "      <td>volkswagen</td>\n",
       "      <td>No</td>\n",
       "      <td>3/17/16 0:00</td>\n",
       "      <td>0.0</td>\n",
       "      <td>91074.0</td>\n",
       "      <td>3/17/16 17:40</td>\n",
       "    </tr>\n",
       "    <tr>\n",
       "      <th>4</th>\n",
       "      <td>3/31/16 17:25</td>\n",
       "      <td>Skoda_Fabia_1.4_TDI_PD_Classic</td>\n",
       "      <td>Private</td>\n",
       "      <td>Offer</td>\n",
       "      <td>3600.0</td>\n",
       "      <td>test</td>\n",
       "      <td>Small car</td>\n",
       "      <td>2008.0</td>\n",
       "      <td>Manual</td>\n",
       "      <td>69.0</td>\n",
       "      <td>fabia</td>\n",
       "      <td>90000.0</td>\n",
       "      <td>7.0</td>\n",
       "      <td>diesel</td>\n",
       "      <td>skoda</td>\n",
       "      <td>No</td>\n",
       "      <td>3/31/16 0:00</td>\n",
       "      <td>0.0</td>\n",
       "      <td>60437.0</td>\n",
       "      <td>4/6/16 10:17</td>\n",
       "    </tr>\n",
       "  </tbody>\n",
       "</table>\n",
       "</div>"
      ],
      "text/plain": [
       "     dateCrawled                            name   seller offerType    price  \\\n",
       "0  3/24/16 11:52                      Golf_3_1.6  Private     Offer    480.0   \n",
       "1  3/24/16 10:58            A5_Sportback_2.7_Tdi  Private     Offer  18300.0   \n",
       "2  3/14/16 12:52  Jeep_Grand_Cherokee_\"Overland\"  Private     Offer   9800.0   \n",
       "3  3/17/16 16:54              GOLF_4_1_4__3TRER  Private     Offer   1500.0   \n",
       "4  3/31/16 17:25  Skoda_Fabia_1.4_TDI_PD_Classic  Private     Offer   3600.0   \n",
       "\n",
       "  abtest vehicleType  yearOfRegistration    gearbox  powerPS  model  \\\n",
       "0   test         NaN              1993.0     Manual      0.0   golf   \n",
       "1   test       coupe              2011.0     Manual    190.0    NaN   \n",
       "2   test         suv              2004.0  Automatic    163.0  grand   \n",
       "3   test   Small car              2001.0     Manual     75.0   golf   \n",
       "4   test   Small car              2008.0     Manual     69.0  fabia   \n",
       "\n",
       "   kilometer  monthOfRegistration fuelType       brand notRepairedDamage  \\\n",
       "0   150000.0                  0.0   petrol  volkswagen               NaN   \n",
       "1   125000.0                  5.0   diesel        audi               Yes   \n",
       "2   125000.0                  8.0   diesel        jeep               NaN   \n",
       "3   150000.0                  6.0   petrol  volkswagen                No   \n",
       "4    90000.0                  7.0   diesel       skoda                No   \n",
       "\n",
       "    dateCreated  nrOfPictures  postalCode       lastSeen  \n",
       "0  3/24/16 0:00           0.0     70435.0    4/7/16 3:16  \n",
       "1  3/24/16 0:00           0.0     66954.0    4/7/16 1:46  \n",
       "2  3/14/16 0:00           0.0     90480.0   4/5/16 12:47  \n",
       "3  3/17/16 0:00           0.0     91074.0  3/17/16 17:40  \n",
       "4  3/31/16 0:00           0.0     60437.0   4/6/16 10:17  "
      ]
     },
     "execution_count": 2,
     "metadata": {},
     "output_type": "execute_result"
    }
   ],
   "source": [
    "#reading the csv to a dataframe and preventing unicode - decode error \n",
    "df = pd.read_csv('autos.csv', sep=',', header=0, low_memory=False , encoding='latin-1') \n",
    "df.head() #to see how does the data look like"
   ]
  },
  {
   "cell_type": "markdown",
   "metadata": {},
   "source": [
    "<u><b>STEP 3: Seeing the numeric fields information to gain insights </b></u>\n"
   ]
  },
  {
   "cell_type": "code",
   "execution_count": 3,
   "metadata": {},
   "outputs": [
    {
     "data": {
      "text/html": [
       "<div>\n",
       "<style>\n",
       "    .dataframe thead tr:only-child th {\n",
       "        text-align: right;\n",
       "    }\n",
       "\n",
       "    .dataframe thead th {\n",
       "        text-align: left;\n",
       "    }\n",
       "\n",
       "    .dataframe tbody tr th {\n",
       "        vertical-align: top;\n",
       "    }\n",
       "</style>\n",
       "<table border=\"1\" class=\"dataframe\">\n",
       "  <thead>\n",
       "    <tr style=\"text-align: right;\">\n",
       "      <th></th>\n",
       "      <th>price</th>\n",
       "      <th>yearOfRegistration</th>\n",
       "      <th>powerPS</th>\n",
       "      <th>kilometer</th>\n",
       "      <th>monthOfRegistration</th>\n",
       "      <th>nrOfPictures</th>\n",
       "      <th>postalCode</th>\n",
       "    </tr>\n",
       "  </thead>\n",
       "  <tbody>\n",
       "    <tr>\n",
       "      <th>count</th>\n",
       "      <td>3.715370e+05</td>\n",
       "      <td>371537.000000</td>\n",
       "      <td>371537.000000</td>\n",
       "      <td>371537.000000</td>\n",
       "      <td>371537.000000</td>\n",
       "      <td>371537.0</td>\n",
       "      <td>371537.000000</td>\n",
       "    </tr>\n",
       "    <tr>\n",
       "      <th>mean</th>\n",
       "      <td>1.729549e+04</td>\n",
       "      <td>2004.577883</td>\n",
       "      <td>115.549151</td>\n",
       "      <td>125618.161852</td>\n",
       "      <td>5.734473</td>\n",
       "      <td>0.0</td>\n",
       "      <td>50820.666402</td>\n",
       "    </tr>\n",
       "    <tr>\n",
       "      <th>std</th>\n",
       "      <td>3.587910e+06</td>\n",
       "      <td>92.865496</td>\n",
       "      <td>192.137403</td>\n",
       "      <td>40112.919387</td>\n",
       "      <td>3.712383</td>\n",
       "      <td>0.0</td>\n",
       "      <td>25799.080292</td>\n",
       "    </tr>\n",
       "    <tr>\n",
       "      <th>min</th>\n",
       "      <td>0.000000e+00</td>\n",
       "      <td>1000.000000</td>\n",
       "      <td>0.000000</td>\n",
       "      <td>5000.000000</td>\n",
       "      <td>0.000000</td>\n",
       "      <td>0.0</td>\n",
       "      <td>1067.000000</td>\n",
       "    </tr>\n",
       "    <tr>\n",
       "      <th>25%</th>\n",
       "      <td>1.150000e+03</td>\n",
       "      <td>1999.000000</td>\n",
       "      <td>70.000000</td>\n",
       "      <td>125000.000000</td>\n",
       "      <td>3.000000</td>\n",
       "      <td>0.0</td>\n",
       "      <td>30459.000000</td>\n",
       "    </tr>\n",
       "    <tr>\n",
       "      <th>50%</th>\n",
       "      <td>2.950000e+03</td>\n",
       "      <td>2003.000000</td>\n",
       "      <td>105.000000</td>\n",
       "      <td>150000.000000</td>\n",
       "      <td>6.000000</td>\n",
       "      <td>0.0</td>\n",
       "      <td>49610.000000</td>\n",
       "    </tr>\n",
       "    <tr>\n",
       "      <th>75%</th>\n",
       "      <td>7.200000e+03</td>\n",
       "      <td>2008.000000</td>\n",
       "      <td>150.000000</td>\n",
       "      <td>150000.000000</td>\n",
       "      <td>9.000000</td>\n",
       "      <td>0.0</td>\n",
       "      <td>71546.000000</td>\n",
       "    </tr>\n",
       "    <tr>\n",
       "      <th>max</th>\n",
       "      <td>2.147484e+09</td>\n",
       "      <td>9999.000000</td>\n",
       "      <td>20000.000000</td>\n",
       "      <td>150000.000000</td>\n",
       "      <td>12.000000</td>\n",
       "      <td>0.0</td>\n",
       "      <td>99998.000000</td>\n",
       "    </tr>\n",
       "  </tbody>\n",
       "</table>\n",
       "</div>"
      ],
      "text/plain": [
       "              price  yearOfRegistration        powerPS      kilometer  \\\n",
       "count  3.715370e+05       371537.000000  371537.000000  371537.000000   \n",
       "mean   1.729549e+04         2004.577883     115.549151  125618.161852   \n",
       "std    3.587910e+06           92.865496     192.137403   40112.919387   \n",
       "min    0.000000e+00         1000.000000       0.000000    5000.000000   \n",
       "25%    1.150000e+03         1999.000000      70.000000  125000.000000   \n",
       "50%    2.950000e+03         2003.000000     105.000000  150000.000000   \n",
       "75%    7.200000e+03         2008.000000     150.000000  150000.000000   \n",
       "max    2.147484e+09         9999.000000   20000.000000  150000.000000   \n",
       "\n",
       "       monthOfRegistration  nrOfPictures     postalCode  \n",
       "count        371537.000000      371537.0  371537.000000  \n",
       "mean              5.734473           0.0   50820.666402  \n",
       "std               3.712383           0.0   25799.080292  \n",
       "min               0.000000           0.0    1067.000000  \n",
       "25%               3.000000           0.0   30459.000000  \n",
       "50%               6.000000           0.0   49610.000000  \n",
       "75%               9.000000           0.0   71546.000000  \n",
       "max              12.000000           0.0   99998.000000  "
      ]
     },
     "execution_count": 3,
     "metadata": {},
     "output_type": "execute_result"
    }
   ],
   "source": [
    "df.describe()"
   ]
  },
  {
   "cell_type": "code",
   "execution_count": 4,
   "metadata": {
    "collapsed": true
   },
   "outputs": [],
   "source": [
    "df.dropna(how= 'all', inplace= True) #dropping null values"
   ]
  },
  {
   "cell_type": "markdown",
   "metadata": {},
   "source": [
    "<u><b>STEP 4: Dropping columns which are not making any sense or have single value for all the rows </b></u>\n",
    "\n"
   ]
  },
  {
   "cell_type": "code",
   "execution_count": 5,
   "metadata": {},
   "outputs": [
    {
     "name": "stdout",
     "output_type": "stream",
     "text": [
      "['Private' 'Commercial' nan]\n",
      "['Offer' 'petition' nan]\n",
      "['test' 'control' nan]\n",
      "[  0.  nan]\n"
     ]
    }
   ],
   "source": [
    "print(df.seller.unique())\n",
    "print(df.offerType.unique())\n",
    "print(df.abtest.unique())\n",
    "print(df.nrOfPictures.unique())"
   ]
  },
  {
   "cell_type": "code",
   "execution_count": 6,
   "metadata": {
    "collapsed": true
   },
   "outputs": [],
   "source": [
    "df.drop(['seller', 'offerType', 'abtest', 'dateCrawled', 'nrOfPictures', 'lastSeen', 'postalCode', 'dateCreated'], axis='columns', inplace=True)"
   ]
  },
  {
   "cell_type": "markdown",
   "metadata": {},
   "source": [
    "<u><b>STEP 5: Dropping duplicates </b></u>\n"
   ]
  },
  {
   "cell_type": "code",
   "execution_count": 7,
   "metadata": {
    "collapsed": true
   },
   "outputs": [],
   "source": [
    "df_clean = df.drop_duplicates(['name','price','vehicleType','yearOfRegistration'\n",
    "                         ,'gearbox','powerPS','model','kilometer','monthOfRegistration','fuelType'\n",
    "                         ,'notRepairedDamage'])"
   ]
  },
  {
   "cell_type": "markdown",
   "metadata": {},
   "source": [
    "<u><b>STEP 6: Finding outliers and filtering them, as outliers pose problems in the analysis </b></u>\n"
   ]
  },
  {
   "cell_type": "code",
   "execution_count": 8,
   "metadata": {},
   "outputs": [
    {
     "name": "stdout",
     "output_type": "stream",
     "text": [
      "14483\n",
      "284\n"
     ]
    }
   ],
   "source": [
    "print(df_clean.loc[df_clean.yearOfRegistration >= 2017].count()['name']) # Very new vehicles\n",
    "print(df_clean.loc[df_clean.yearOfRegistration < 1950].count()['name']) # Very Old vehicles"
   ]
  },
  {
   "cell_type": "code",
   "execution_count": 9,
   "metadata": {},
   "outputs": [
    {
     "name": "stdout",
     "output_type": "stream",
     "text": [
      "12931\n",
      "233\n"
     ]
    }
   ],
   "source": [
    "print(df_clean.loc[df_clean.price < 100].count()['name']) # Very cheap vehicles\n",
    "print(df_clean.loc[df_clean.price > 150000].count()['name']) # Very expensive vehicles"
   ]
  },
  {
   "cell_type": "code",
   "execution_count": 10,
   "metadata": {},
   "outputs": [
    {
     "name": "stdout",
     "output_type": "stream",
     "text": [
      "0\n",
      "0\n"
     ]
    }
   ],
   "source": [
    "print(df_clean.loc[df_clean.kilometer < 5000].count()['name']) # Very few km\n",
    "print(df_clean.loc[df_clean.kilometer > 200000].count()['name']) # Very large km"
   ]
  },
  {
   "cell_type": "code",
   "execution_count": 11,
   "metadata": {},
   "outputs": [
    {
     "name": "stdout",
     "output_type": "stream",
     "text": [
      "39579\n",
      "829\n"
     ]
    }
   ],
   "source": [
    "print(df_clean.loc[df_clean.powerPS < 10].count()['name']) # Too less Power\n",
    "print(df_clean.loc[df_clean.powerPS > 500].count()['name']) #Too much Power"
   ]
  },
  {
   "cell_type": "code",
   "execution_count": 12,
   "metadata": {
    "collapsed": true
   },
   "outputs": [],
   "source": [
    "##removing the outliers shown above\n",
    "df_clean = df_clean[\n",
    "        (df_clean.yearOfRegistration <= 2016) \n",
    "      & (df_clean.yearOfRegistration >= 1950) \n",
    "      & (df_clean.price >= 100) \n",
    "      & (df_clean.price <= 150000) \n",
    "      & (df_clean.powerPS >= 10) \n",
    "      & (df_clean.powerPS <= 500)]"
   ]
  },
  {
   "cell_type": "code",
   "execution_count": 13,
   "metadata": {},
   "outputs": [
    {
     "data": {
      "text/html": [
       "<div>\n",
       "<style>\n",
       "    .dataframe thead tr:only-child th {\n",
       "        text-align: right;\n",
       "    }\n",
       "\n",
       "    .dataframe thead th {\n",
       "        text-align: left;\n",
       "    }\n",
       "\n",
       "    .dataframe tbody tr th {\n",
       "        vertical-align: top;\n",
       "    }\n",
       "</style>\n",
       "<table border=\"1\" class=\"dataframe\">\n",
       "  <thead>\n",
       "    <tr style=\"text-align: right;\">\n",
       "      <th></th>\n",
       "      <th>name</th>\n",
       "      <th>price</th>\n",
       "      <th>vehicleType</th>\n",
       "      <th>yearOfRegistration</th>\n",
       "      <th>gearbox</th>\n",
       "      <th>powerPS</th>\n",
       "      <th>model</th>\n",
       "      <th>kilometer</th>\n",
       "      <th>monthOfRegistration</th>\n",
       "      <th>fuelType</th>\n",
       "      <th>brand</th>\n",
       "      <th>notRepairedDamage</th>\n",
       "    </tr>\n",
       "  </thead>\n",
       "  <tbody>\n",
       "    <tr>\n",
       "      <th>1</th>\n",
       "      <td>A5_Sportback_2.7_Tdi</td>\n",
       "      <td>18300.0</td>\n",
       "      <td>coupe</td>\n",
       "      <td>2011.0</td>\n",
       "      <td>Manual</td>\n",
       "      <td>190.0</td>\n",
       "      <td>NaN</td>\n",
       "      <td>125000.0</td>\n",
       "      <td>5.0</td>\n",
       "      <td>diesel</td>\n",
       "      <td>audi</td>\n",
       "      <td>Yes</td>\n",
       "    </tr>\n",
       "    <tr>\n",
       "      <th>2</th>\n",
       "      <td>Jeep_Grand_Cherokee_\"Overland\"</td>\n",
       "      <td>9800.0</td>\n",
       "      <td>suv</td>\n",
       "      <td>2004.0</td>\n",
       "      <td>Automatic</td>\n",
       "      <td>163.0</td>\n",
       "      <td>grand</td>\n",
       "      <td>125000.0</td>\n",
       "      <td>8.0</td>\n",
       "      <td>diesel</td>\n",
       "      <td>jeep</td>\n",
       "      <td>NaN</td>\n",
       "    </tr>\n",
       "    <tr>\n",
       "      <th>3</th>\n",
       "      <td>GOLF_4_1_4__3TRER</td>\n",
       "      <td>1500.0</td>\n",
       "      <td>Small car</td>\n",
       "      <td>2001.0</td>\n",
       "      <td>Manual</td>\n",
       "      <td>75.0</td>\n",
       "      <td>golf</td>\n",
       "      <td>150000.0</td>\n",
       "      <td>6.0</td>\n",
       "      <td>petrol</td>\n",
       "      <td>volkswagen</td>\n",
       "      <td>No</td>\n",
       "    </tr>\n",
       "    <tr>\n",
       "      <th>4</th>\n",
       "      <td>Skoda_Fabia_1.4_TDI_PD_Classic</td>\n",
       "      <td>3600.0</td>\n",
       "      <td>Small car</td>\n",
       "      <td>2008.0</td>\n",
       "      <td>Manual</td>\n",
       "      <td>69.0</td>\n",
       "      <td>fabia</td>\n",
       "      <td>90000.0</td>\n",
       "      <td>7.0</td>\n",
       "      <td>diesel</td>\n",
       "      <td>skoda</td>\n",
       "      <td>No</td>\n",
       "    </tr>\n",
       "    <tr>\n",
       "      <th>5</th>\n",
       "      <td>BMW_316i___e36_Limousine___Bastlerfahrzeug__Ex...</td>\n",
       "      <td>650.0</td>\n",
       "      <td>limousine</td>\n",
       "      <td>1995.0</td>\n",
       "      <td>Manual</td>\n",
       "      <td>102.0</td>\n",
       "      <td>3er</td>\n",
       "      <td>150000.0</td>\n",
       "      <td>10.0</td>\n",
       "      <td>petrol</td>\n",
       "      <td>bmw</td>\n",
       "      <td>Yes</td>\n",
       "    </tr>\n",
       "  </tbody>\n",
       "</table>\n",
       "</div>"
      ],
      "text/plain": [
       "                                                name    price vehicleType  \\\n",
       "1                               A5_Sportback_2.7_Tdi  18300.0       coupe   \n",
       "2                     Jeep_Grand_Cherokee_\"Overland\"   9800.0         suv   \n",
       "3                                 GOLF_4_1_4__3TRER   1500.0   Small car   \n",
       "4                     Skoda_Fabia_1.4_TDI_PD_Classic   3600.0   Small car   \n",
       "5  BMW_316i___e36_Limousine___Bastlerfahrzeug__Ex...    650.0   limousine   \n",
       "\n",
       "   yearOfRegistration    gearbox  powerPS  model  kilometer  \\\n",
       "1              2011.0     Manual    190.0    NaN   125000.0   \n",
       "2              2004.0  Automatic    163.0  grand   125000.0   \n",
       "3              2001.0     Manual     75.0   golf   150000.0   \n",
       "4              2008.0     Manual     69.0  fabia    90000.0   \n",
       "5              1995.0     Manual    102.0    3er   150000.0   \n",
       "\n",
       "   monthOfRegistration fuelType       brand notRepairedDamage  \n",
       "1                  5.0   diesel        audi               Yes  \n",
       "2                  8.0   diesel        jeep               NaN  \n",
       "3                  6.0   petrol  volkswagen                No  \n",
       "4                  7.0   diesel       skoda                No  \n",
       "5                 10.0   petrol         bmw               Yes  "
      ]
     },
     "execution_count": 13,
     "metadata": {},
     "output_type": "execute_result"
    }
   ],
   "source": [
    "df_clean.head()"
   ]
  },
  {
   "cell_type": "code",
   "execution_count": 14,
   "metadata": {},
   "outputs": [
    {
     "name": "stdout",
     "output_type": "stream",
     "text": [
      "Type of Fuel:  ['diesel' 'petrol' nan 'lpg' 'Others' 'hybrid' 'cng' 'Electric']\n",
      "Damages:  ['Yes' nan 'No']\n",
      "Type of Vehicle:  ['coupe' 'suv' 'Small car' 'limousine' 'cabrio' 'bus' 'Station Wagon' nan\n",
      " 'Other']\n",
      "Brand of Vehicle:  ['audi' 'jeep' 'volkswagen' 'skoda' 'bmw' 'peugeot' 'ford' 'mazda' 'nissan'\n",
      " 'renault' 'mercedes_benz' 'seat' 'honda' 'fiat' 'opel' 'mini' 'smart'\n",
      " 'hyundai' 'alfa_romeo' 'subaru' 'volvo' 'mitsubishi' 'kia' 'suzuki'\n",
      " 'lancia' 'porsche' 'citroen' 'toyota' 'chevrolet' 'dacia' 'daihatsu'\n",
      " 'chrysler' 'sonstige_autos' 'Yesguar' 'daewoo' 'rover' 'saab' 'land_rover'\n",
      " 'trabant' 'lada']\n"
     ]
    }
   ],
   "source": [
    "#checking the non-numeric fields and their values\n",
    "\n",
    "print(\"Type of Fuel: \" , df_clean['fuelType'].unique())\n",
    "print(\"Damages: \" , df_clean['notRepairedDamage'].unique())\n",
    "print(\"Type of Vehicle: \" , df_clean['vehicleType'].unique())\n",
    "print(\"Brand of Vehicle: \" , df_clean['brand'].unique())"
   ]
  },
  {
   "cell_type": "markdown",
   "metadata": {},
   "source": [
    "<u><b>STEP 7: Dealing with null/missing values </b></u>\n"
   ]
  },
  {
   "cell_type": "code",
   "execution_count": 15,
   "metadata": {},
   "outputs": [
    {
     "data": {
      "text/plain": [
       "name                       0\n",
       "price                      0\n",
       "vehicleType            10818\n",
       "yearOfRegistration         0\n",
       "gearbox                 5260\n",
       "powerPS                    0\n",
       "model                  11345\n",
       "kilometer                  0\n",
       "monthOfRegistration        0\n",
       "fuelType               15398\n",
       "brand                      0\n",
       "notRepairedDamage      42120\n",
       "dtype: int64"
      ]
     },
     "execution_count": 15,
     "metadata": {},
     "output_type": "execute_result"
    }
   ],
   "source": [
    "\n",
    "df_clean.isnull().sum() #checking number of nulls/missing values in the data as per columns "
   ]
  },
  {
   "cell_type": "code",
   "execution_count": 16,
   "metadata": {
    "collapsed": true
   },
   "outputs": [],
   "source": [
    "## filling the null/missing fields with text - \"no-value\"\n",
    "df_clean['notRepairedDamage'].fillna(value='no-value', inplace=True)\n",
    "df_clean['fuelType'].fillna(value='no-value', inplace=True)\n",
    "df_clean['gearbox'].fillna(value='no-value', inplace=True)\n",
    "df_clean['vehicleType'].fillna(value='no-value', inplace=True)\n",
    "df_clean['model'].fillna(value='no-value', inplace=True)"
   ]
  },
  {
   "cell_type": "code",
   "execution_count": 17,
   "metadata": {},
   "outputs": [
    {
     "data": {
      "text/plain": [
       "name                   0\n",
       "price                  0\n",
       "vehicleType            0\n",
       "yearOfRegistration     0\n",
       "gearbox                0\n",
       "powerPS                0\n",
       "model                  0\n",
       "kilometer              0\n",
       "monthOfRegistration    0\n",
       "fuelType               0\n",
       "brand                  0\n",
       "notRepairedDamage      0\n",
       "dtype: int64"
      ]
     },
     "execution_count": 17,
     "metadata": {},
     "output_type": "execute_result"
    }
   ],
   "source": [
    "#Checking if all the nulls have been filled or dropped\n",
    "df_clean.isnull().sum()"
   ]
  },
  {
   "cell_type": "code",
   "execution_count": 18,
   "metadata": {},
   "outputs": [
    {
     "data": {
      "text/html": [
       "<div>\n",
       "<style>\n",
       "    .dataframe thead tr:only-child th {\n",
       "        text-align: right;\n",
       "    }\n",
       "\n",
       "    .dataframe thead th {\n",
       "        text-align: left;\n",
       "    }\n",
       "\n",
       "    .dataframe tbody tr th {\n",
       "        vertical-align: top;\n",
       "    }\n",
       "</style>\n",
       "<table border=\"1\" class=\"dataframe\">\n",
       "  <thead>\n",
       "    <tr style=\"text-align: right;\">\n",
       "      <th></th>\n",
       "      <th>name</th>\n",
       "      <th>price</th>\n",
       "      <th>vehicleType</th>\n",
       "      <th>yearOfRegistration</th>\n",
       "      <th>gearbox</th>\n",
       "      <th>powerPS</th>\n",
       "      <th>model</th>\n",
       "      <th>kilometer</th>\n",
       "      <th>monthOfRegistration</th>\n",
       "      <th>fuelType</th>\n",
       "      <th>brand</th>\n",
       "      <th>notRepairedDamage</th>\n",
       "    </tr>\n",
       "  </thead>\n",
       "  <tbody>\n",
       "    <tr>\n",
       "      <th>1</th>\n",
       "      <td>A5_Sportback_2.7_Tdi</td>\n",
       "      <td>18300.0</td>\n",
       "      <td>coupe</td>\n",
       "      <td>2011.0</td>\n",
       "      <td>Manual</td>\n",
       "      <td>190.0</td>\n",
       "      <td>no-value</td>\n",
       "      <td>125000.0</td>\n",
       "      <td>5.0</td>\n",
       "      <td>diesel</td>\n",
       "      <td>audi</td>\n",
       "      <td>Yes</td>\n",
       "    </tr>\n",
       "    <tr>\n",
       "      <th>2</th>\n",
       "      <td>Jeep_Grand_Cherokee_\"Overland\"</td>\n",
       "      <td>9800.0</td>\n",
       "      <td>suv</td>\n",
       "      <td>2004.0</td>\n",
       "      <td>Automatic</td>\n",
       "      <td>163.0</td>\n",
       "      <td>grand</td>\n",
       "      <td>125000.0</td>\n",
       "      <td>8.0</td>\n",
       "      <td>diesel</td>\n",
       "      <td>jeep</td>\n",
       "      <td>no-value</td>\n",
       "    </tr>\n",
       "    <tr>\n",
       "      <th>3</th>\n",
       "      <td>GOLF_4_1_4__3TRER</td>\n",
       "      <td>1500.0</td>\n",
       "      <td>Small car</td>\n",
       "      <td>2001.0</td>\n",
       "      <td>Manual</td>\n",
       "      <td>75.0</td>\n",
       "      <td>golf</td>\n",
       "      <td>150000.0</td>\n",
       "      <td>6.0</td>\n",
       "      <td>petrol</td>\n",
       "      <td>volkswagen</td>\n",
       "      <td>No</td>\n",
       "    </tr>\n",
       "    <tr>\n",
       "      <th>4</th>\n",
       "      <td>Skoda_Fabia_1.4_TDI_PD_Classic</td>\n",
       "      <td>3600.0</td>\n",
       "      <td>Small car</td>\n",
       "      <td>2008.0</td>\n",
       "      <td>Manual</td>\n",
       "      <td>69.0</td>\n",
       "      <td>fabia</td>\n",
       "      <td>90000.0</td>\n",
       "      <td>7.0</td>\n",
       "      <td>diesel</td>\n",
       "      <td>skoda</td>\n",
       "      <td>No</td>\n",
       "    </tr>\n",
       "    <tr>\n",
       "      <th>5</th>\n",
       "      <td>BMW_316i___e36_Limousine___Bastlerfahrzeug__Ex...</td>\n",
       "      <td>650.0</td>\n",
       "      <td>limousine</td>\n",
       "      <td>1995.0</td>\n",
       "      <td>Manual</td>\n",
       "      <td>102.0</td>\n",
       "      <td>3er</td>\n",
       "      <td>150000.0</td>\n",
       "      <td>10.0</td>\n",
       "      <td>petrol</td>\n",
       "      <td>bmw</td>\n",
       "      <td>Yes</td>\n",
       "    </tr>\n",
       "  </tbody>\n",
       "</table>\n",
       "</div>"
      ],
      "text/plain": [
       "                                                name    price vehicleType  \\\n",
       "1                               A5_Sportback_2.7_Tdi  18300.0       coupe   \n",
       "2                     Jeep_Grand_Cherokee_\"Overland\"   9800.0         suv   \n",
       "3                                 GOLF_4_1_4__3TRER   1500.0   Small car   \n",
       "4                     Skoda_Fabia_1.4_TDI_PD_Classic   3600.0   Small car   \n",
       "5  BMW_316i___e36_Limousine___Bastlerfahrzeug__Ex...    650.0   limousine   \n",
       "\n",
       "   yearOfRegistration    gearbox  powerPS     model  kilometer  \\\n",
       "1              2011.0     Manual    190.0  no-value   125000.0   \n",
       "2              2004.0  Automatic    163.0     grand   125000.0   \n",
       "3              2001.0     Manual     75.0      golf   150000.0   \n",
       "4              2008.0     Manual     69.0     fabia    90000.0   \n",
       "5              1995.0     Manual    102.0       3er   150000.0   \n",
       "\n",
       "   monthOfRegistration fuelType       brand notRepairedDamage  \n",
       "1                  5.0   diesel        audi               Yes  \n",
       "2                  8.0   diesel        jeep          no-value  \n",
       "3                  6.0   petrol  volkswagen                No  \n",
       "4                  7.0   diesel       skoda                No  \n",
       "5                 10.0   petrol         bmw               Yes  "
      ]
     },
     "execution_count": 18,
     "metadata": {},
     "output_type": "execute_result"
    }
   ],
   "source": [
    "df_clean.head()\n"
   ]
  },
  {
   "cell_type": "markdown",
   "metadata": {},
   "source": [
    "<u><b>STEP 8: Feature Engineering: </b></u>\n",
    "<br>\n",
    "In this part I'll try to explore all the coloumns and finalize my features. \n"
   ]
  },
  {
   "cell_type": "code",
   "execution_count": 19,
   "metadata": {},
   "outputs": [
    {
     "name": "stdout",
     "output_type": "stream",
     "text": [
      "model\n",
      "golf        24845\n",
      "Others      21736\n",
      "3er         17704\n",
      "no-value    11345\n",
      "polo        10477\n",
      "corsa        9821\n",
      "astra        8844\n",
      "a4           8816\n",
      "passat       8658\n",
      "c_klasse     7559\n",
      "Name: model, dtype: int64\n"
     ]
    },
    {
     "data": {
      "image/png": "[encoded data removed]",
      "text/plain": [
       "<matplotlib.figure.Figure at 0x11295c358>"
      ]
     },
     "metadata": {},
     "output_type": "display_data"
    }
   ],
   "source": [
    "uniqueValues = df_clean['model'].unique()\n",
    "\n",
    "##grouping by model and plotting it versus count of each model\n",
    "groupedValues = df_clean.groupby(by='model')['model'].count().sort_values(ascending=False)\n",
    "rangedValues = range(min(len(uniqueValues), 10))\n",
    "\n",
    "print( groupedValues.head(10))\n",
    "plt.figure(figsize=(6,4))\n",
    "plt.bar(rangedValues, groupedValues.head(10)) \n",
    "plt.xlabel('Model')\n",
    "plt.ylabel('Count')\n",
    "plt.xticks(rangedValues, groupedValues.index)\n",
    "plt.show()"
   ]
  },
  {
   "cell_type": "code",
   "execution_count": 20,
   "metadata": {},
   "outputs": [
    {
     "name": "stdout",
     "output_type": "stream",
     "text": [
      "brand\n",
      "volkswagen       64851\n",
      "bmw              34441\n",
      "opel             31755\n",
      "mercedes_benz    29564\n",
      "audi             27984\n",
      "ford             20492\n",
      "renault          13630\n",
      "peugeot           9192\n",
      "fiat              7533\n",
      "seat              5840\n",
      "Name: brand, dtype: int64\n"
     ]
    },
    {
     "data": {
      "image/png": "[encoded data removed]",
      "text/plain": [
       "<matplotlib.figure.Figure at 0x1136754a8>"
      ]
     },
     "metadata": {},
     "output_type": "display_data"
    }
   ],
   "source": [
    "uniqueValues = df_clean['brand'].unique()\n",
    "\n",
    "##grouping by brand and plotting it versus count of each vehicle per brand\n",
    "groupedValues = df_clean.groupby(by='brand')['brand'].count().sort_values(ascending=False)\n",
    "rangedValues = range(min(len(uniqueValues), 10))\n",
    "\n",
    "print( groupedValues.head(10))\n",
    "plt.figure(figsize=(10,4))\n",
    "plt.bar(rangedValues, groupedValues.head(10)) \n",
    "plt.xlabel('Brand')\n",
    "plt.ylabel('Count')\n",
    "plt.xticks(rangedValues, groupedValues.index)\n",
    "plt.show()"
   ]
  },
  {
   "cell_type": "code",
   "execution_count": 21,
   "metadata": {},
   "outputs": [
    {
     "name": "stdout",
     "output_type": "stream",
     "text": [
      "vehicleType\n",
      "limousine        84843\n",
      "Small car        68418\n",
      "Station Wagon    59859\n",
      "bus              26987\n",
      "cabrio           20921\n",
      "coupe            16799\n",
      "suv              13044\n",
      "no-value         10818\n",
      "Other             2446\n",
      "Name: vehicleType, dtype: int64\n"
     ]
    },
    {
     "data": {
      "image/png": "[encoded data removed]",
      "text/plain": [
       "<matplotlib.figure.Figure at 0x10e19c668>"
      ]
     },
     "metadata": {},
     "output_type": "display_data"
    }
   ],
   "source": [
    "uniqueValues = df_clean['vehicleType'].unique()\n",
    "\n",
    "##grouping by type of the vehicle and plotting it versus count of each vehicle type\n",
    "groupedValues = df_clean.groupby(by='vehicleType')['vehicleType'].count().sort_values(ascending=False)\n",
    "rangedValues = range(min(len(uniqueValues), 10))\n",
    "\n",
    "print( groupedValues.head(10))\n",
    "plt.figure(figsize=(10,4))\n",
    "plt.bar(rangedValues, groupedValues.head(10)) \n",
    "plt.xlabel('Type of Vehicle')\n",
    "plt.ylabel('Count')\n",
    "plt.xticks(rangedValues, groupedValues.index)\n",
    "plt.show()"
   ]
  },
  {
   "cell_type": "code",
   "execution_count": 22,
   "metadata": {},
   "outputs": [
    {
     "name": "stdout",
     "output_type": "stream",
     "text": [
      "fuelType\n",
      "petrol      189920\n",
      "diesel       93301\n",
      "no-value     15398\n",
      "lpg           4646\n",
      "cng            474\n",
      "hybrid         242\n",
      "Others          85\n",
      "Electric        69\n",
      "Name: fuelType, dtype: int64\n"
     ]
    },
    {
     "data": {
      "image/png": "[encoded data removed]",
      "text/plain": [
       "<matplotlib.figure.Figure at 0x11295c588>"
      ]
     },
     "metadata": {},
     "output_type": "display_data"
    }
   ],
   "source": [
    "uniqueValues = df_clean['fuelType'].unique()\n",
    "\n",
    "##grouping by type of fuel and plotting it versus count of each vehicle's fuel type\n",
    "\n",
    "groupedValues = df_clean.groupby(by='fuelType')['fuelType'].count().sort_values(ascending=False)\n",
    "rangedValues = range(min(len(uniqueValues), 10))\n",
    "\n",
    "print( groupedValues.head(10))\n",
    "plt.figure(figsize=(6,4))\n",
    "plt.bar(rangedValues, groupedValues.head(10)) \n",
    "plt.xlabel('Type of Fuel')\n",
    "plt.ylabel('Count')\n",
    "plt.xticks(rangedValues, groupedValues.index)\n",
    "plt.show()"
   ]
  },
  {
   "cell_type": "code",
   "execution_count": 23,
   "metadata": {},
   "outputs": [
    {
     "name": "stdout",
     "output_type": "stream",
     "text": [
      "notRepairedDamage\n",
      "No          233688\n",
      "no-value     42120\n",
      "Yes          28327\n",
      "Name: notRepairedDamage, dtype: int64\n"
     ]
    },
    {
     "data": {
      "image/png": "[encoded data removed]",
      "text/plain": [
       "<matplotlib.figure.Figure at 0x115241748>"
      ]
     },
     "metadata": {},
     "output_type": "display_data"
    }
   ],
   "source": [
    "uniqueValues = df_clean['notRepairedDamage'].unique()\n",
    "\n",
    "\n",
    "groupedValues = df_clean.groupby(by='notRepairedDamage')['notRepairedDamage'].count().sort_values(ascending=False)\n",
    "rangedValues = range(min(len(uniqueValues), 10))\n",
    "\n",
    "print( groupedValues.head(10))\n",
    "plt.figure(figsize=(6,4))\n",
    "plt.bar(rangedValues, groupedValues.head(10)) \n",
    "plt.xlabel('Damaged or not?')\n",
    "plt.ylabel('Count')\n",
    "plt.xticks(rangedValues, groupedValues.index)\n",
    "plt.show()"
   ]
  },
  {
   "cell_type": "code",
   "execution_count": 24,
   "metadata": {},
   "outputs": [
    {
     "name": "stdout",
     "output_type": "stream",
     "text": [
      "gearbox\n",
      "Manual       231996\n",
      "Automatic     66879\n",
      "no-value       5260\n",
      "Name: gearbox, dtype: int64\n"
     ]
    },
    {
     "data": {
      "image/png": "[encoded data removed]",
      "text/plain": [
       "<matplotlib.figure.Figure at 0x11295c0b8>"
      ]
     },
     "metadata": {},
     "output_type": "display_data"
    }
   ],
   "source": [
    "uniqueValues = df_clean['gearbox'].unique()\n",
    "\n",
    "groupedValues = df_clean.groupby(by='gearbox')['gearbox'].count().sort_values(ascending=False)\n",
    "rangedValues = range(min(len(uniqueValues), 10))\n",
    "\n",
    "print( groupedValues.head(10))\n",
    "plt.figure(figsize=(6,4))\n",
    "plt.bar(rangedValues, groupedValues.head(10)) \n",
    "plt.xlabel('Type of Gear System')\n",
    "plt.ylabel('Count')\n",
    "plt.xticks(rangedValues, groupedValues.index)\n",
    "plt.show()"
   ]
  },
  {
   "cell_type": "markdown",
   "metadata": {},
   "source": [
    "<u><b>STEP 9: Understanding the importance of the field name: </b></u>\n",
    "<br>\n",
    "When I saw the field \"name\" - I wanted to see whether what impact will that field have on the price. So I decided to make a new coloumn in the dataframe called as \"namelength\" and filled it with the number of characters each name has. I made the restriction of maximum 60 characters. "
   ]
  },
  {
   "cell_type": "code",
   "execution_count": 25,
   "metadata": {},
   "outputs": [
    {
     "data": {
      "image/png": "[encoded data removed]",
      "text/plain": [
       "<matplotlib.figure.Figure at 0x10a421c88>"
      ]
     },
     "metadata": {},
     "output_type": "display_data"
    }
   ],
   "source": [
    "df_clean['namelength'] = [min(60, len(n)) for n in df_clean['name']] #creating new coloumn with the length of the name in which maximum 60 characters will be taken\n",
    "\n",
    "groupedValues = df_clean.groupby(by='namelength')['price'].mean() #grouping the field by namelength and check mean price for that\n",
    "\n",
    "plt.figure(figsize=(12,12))\n",
    "plt.bar(groupedValues.index, groupedValues) \n",
    "plt.xlabel('Length of the name')\n",
    "plt.ylabel('Price of the Vehicle')\n",
    "plt.show()"
   ]
  },
  {
   "cell_type": "markdown",
   "metadata": {},
   "source": [
    "**Insights from the graph:** The graph shown above shows that except for a few outliers the trend is that the price is increasing with the increase in the length of the name. Which means that if the name is longer it will have more details about the car(more features, more accessories etc.), and thus the price will also be more. \n",
    "\n",
    "Though its not true for some values which are less than 10 characters (namelength), hence these can be considered as exceptions and outliers. The graph clearly shows a pattern between namelength and price."
   ]
  },
  {
   "cell_type": "markdown",
   "metadata": {},
   "source": [
    "**Dropping the coloumn \"Name\" because I feel its not an importat feature** : Because as I have already used this field for the insight above, it is of no use in predicting the price. "
   ]
  },
  {
   "cell_type": "code",
   "execution_count": 26,
   "metadata": {
    "collapsed": true
   },
   "outputs": [],
   "source": [
    "df_clean.drop(['name'], axis='columns', inplace=True)\n"
   ]
  },
  {
   "cell_type": "markdown",
   "metadata": {},
   "source": [
    "<u><b>STEP 10: Converting the non-numeric fields into numeric fields and creating a new DataFrame which will be used for predicting the value </b></u>\n"
   ]
  },
  {
   "cell_type": "markdown",
   "metadata": {},
   "source": [
    "These non-numeric fields - 'gearbox', 'notRepairedDamage', 'model', 'brand', 'fuelType' & 'vehicleType' need to be converted into numeric fields as ML algorithms cannot be applied to string fields."
   ]
  },
  {
   "cell_type": "code",
   "execution_count": 27,
   "metadata": {
    "collapsed": true
   },
   "outputs": [],
   "source": [
    "#making a copy of the clean dataframe so that we get a new dataframe for \n",
    "#applying the algo and we'll also have the original dataframe for comparison\n",
    "\n",
    "df_model  = df_clean.copy(deep=False)"
   ]
  },
  {
   "cell_type": "code",
   "execution_count": 28,
   "metadata": {},
   "outputs": [
    {
     "data": {
      "text/plain": [
       "array(['Manual', 'Automatic', 'no-value'], dtype=object)"
      ]
     },
     "execution_count": 28,
     "metadata": {},
     "output_type": "execute_result"
    }
   ],
   "source": [
    "df_clean.gearbox.unique()"
   ]
  },
  {
   "cell_type": "code",
   "execution_count": 29,
   "metadata": {
    "collapsed": true
   },
   "outputs": [],
   "source": [
    "df_model['gearbox'] = df_model.gearbox.replace({\n",
    "        'Automatic': 0,\n",
    "        'Manual': 1,\n",
    "        'no-value': 2})"
   ]
  },
  {
   "cell_type": "code",
   "execution_count": 30,
   "metadata": {},
   "outputs": [
    {
     "data": {
      "text/plain": [
       "array(['diesel', 'petrol', 'no-value', 'lpg', 'Others', 'hybrid', 'cng',\n",
       "       'Electric'], dtype=object)"
      ]
     },
     "execution_count": 30,
     "metadata": {},
     "output_type": "execute_result"
    }
   ],
   "source": [
    "df_model.fuelType.unique()"
   ]
  },
  {
   "cell_type": "code",
   "execution_count": 31,
   "metadata": {
    "collapsed": true
   },
   "outputs": [],
   "source": [
    "df_model['fuelType'] = df_model.fuelType.replace({\n",
    "        'diesel': 0,\n",
    "        'petrol': 1,\n",
    "        'lpg': 2,\n",
    "        'hybrid': 3,\n",
    "        'Electric': 4,\n",
    "        'cng': 5,\n",
    "        'no-value': 6,\n",
    "        'Others': 7})"
   ]
  },
  {
   "cell_type": "code",
   "execution_count": 32,
   "metadata": {},
   "outputs": [
    {
     "data": {
      "text/plain": [
       "array(['coupe', 'suv', 'Small car', 'limousine', 'cabrio', 'bus',\n",
       "       'Station Wagon', 'no-value', 'Other'], dtype=object)"
      ]
     },
     "execution_count": 32,
     "metadata": {},
     "output_type": "execute_result"
    }
   ],
   "source": [
    "df_model.vehicleType.unique()"
   ]
  },
  {
   "cell_type": "code",
   "execution_count": 33,
   "metadata": {
    "collapsed": true
   },
   "outputs": [],
   "source": [
    "df_model['vehicleType'] = df_model.vehicleType.replace({\n",
    "        'coupe': 0, \n",
    "        'suv':1, \n",
    "        'Small car': 2, \n",
    "        'limousine': 3, \n",
    "        'cabrio': 4, \n",
    "        'bus': 5,\n",
    "        'Station Wagon': 6, \n",
    "        'no-value': 7, \n",
    "        'Other': 8})"
   ]
  },
  {
   "cell_type": "code",
   "execution_count": 34,
   "metadata": {},
   "outputs": [
    {
     "data": {
      "text/plain": [
       "array(['Yes', 'no-value', 'No'], dtype=object)"
      ]
     },
     "execution_count": 34,
     "metadata": {},
     "output_type": "execute_result"
    }
   ],
   "source": [
    "df_model.notRepairedDamage.unique()"
   ]
  },
  {
   "cell_type": "code",
   "execution_count": 35,
   "metadata": {
    "collapsed": true
   },
   "outputs": [],
   "source": [
    "df_model['notRepairedDamage'] = df_model.notRepairedDamage.replace({\n",
    "        'Yes': 0, \n",
    "        'no-value': 1, \n",
    "        'No': 2 })"
   ]
  },
  {
   "cell_type": "markdown",
   "metadata": {},
   "source": []
  },
  {
   "cell_type": "code",
   "execution_count": 36,
   "metadata": {},
   "outputs": [
    {
     "data": {
      "text/plain": [
       "array(['audi', 'jeep', 'volkswagen', 'skoda', 'bmw', 'peugeot', 'ford',\n",
       "       'mazda', 'nissan', 'renault', 'mercedes_benz', 'seat', 'honda',\n",
       "       'fiat', 'opel', 'mini', 'smart', 'hyundai', 'alfa_romeo', 'subaru',\n",
       "       'volvo', 'mitsubishi', 'kia', 'suzuki', 'lancia', 'porsche',\n",
       "       'citroen', 'toyota', 'chevrolet', 'dacia', 'daihatsu', 'chrysler',\n",
       "       'sonstige_autos', 'Yesguar', 'daewoo', 'rover', 'saab',\n",
       "       'land_rover', 'trabant', 'lada'], dtype=object)"
      ]
     },
     "execution_count": 36,
     "metadata": {},
     "output_type": "execute_result"
    }
   ],
   "source": [
    "df_model.brand.unique()"
   ]
  },
  {
   "cell_type": "code",
   "execution_count": 37,
   "metadata": {},
   "outputs": [
    {
     "data": {
      "text/plain": [
       "array(['no-value', 'grand', 'golf', 'fabia', '3er', '2_reihe', 'c_max',\n",
       "       '3_reihe', 'passat', 'navara', 'polo', 'twingo', 'a_klasse',\n",
       "       'scirocco', '5er', 'arosa', 'Others', 'civic', 'transporter',\n",
       "       'punto', 'e_klasse', 'clio', 'kadett', 'one', 'fortwo', '1er',\n",
       "       'b_klasse', 'a8', 'jetta', 'fiesta', 'c_klasse', 'micra', 'vito',\n",
       "       'sprinter', 'astra', '156', 'escort', 'forester', 'xc_reihe',\n",
       "       'scenic', 'ka', 'a1', 'focus', 'a4', 'tt', 'a6', 'Yeszz', 'omega',\n",
       "       'slk', '7er', 'combo', 'corsa', '80', '147', 'glk', 'z_reihe',\n",
       "       'sorento', 'ibiza', 'mustang', 'eos', 'touran', 'getz', 'insignia',\n",
       "       'almera', 'megane', 'a3', 'lupo', 'r19', 'caddy', 'mondeo',\n",
       "       'cordoba', 'colt', 'impreza', 'vectra', 'berlingo', 'm_klasse',\n",
       "       'tiguan', '6_reihe', 'c4', 'panda', 'up', 'i_reihe', 'ceed',\n",
       "       'kangoo', '5_reihe', 'yeti', 'octavia', 'zafira', 'mii', 'rx_reihe',\n",
       "       '6er', 'modus', 'fox', 'matiz', 'beetle', 'rio', 'touareg', 'logan',\n",
       "       'spider', 'cuore', 's_max', 'a2', 'x_reihe', 'a5', 'galaxy', 'c3',\n",
       "       'viano', 's_klasse', '1_reihe', 'sharan', 'avensis', 'sl',\n",
       "       'roomster', 'q5', 'kaefer', 'santa', 'leon', 'cooper', '4_reihe',\n",
       "       'sportage', 'laguna', 'ptcruiser', 'clk', 'primera', 'espace',\n",
       "       'exeo', '159', 'transit', 'juke', 'v40', 'carisma', 'accord',\n",
       "       'corolla', 'lanos', 'phaeton', 'boxster', 'verso', 'swift', 'rav',\n",
       "       'kuga', 'qashqai', 'picanto', 'superb', 'stilo', 'alhambra', '911',\n",
       "       'm_reihe', 'roadster', 'ypsilon', 'galant', 'justy', '90', 'sirion',\n",
       "       'signum', 'crossfire', 'agila', 'duster', 'v50', 'mx_reihe', '500',\n",
       "       'meriva', 'discovery', 'c_reihe', 'v_klasse', 'yaris', 'c5', 'aygo',\n",
       "       'seicento', 'cc', 'carnival', 'fusion', 'bora', 'forfour', 'cl',\n",
       "       'tigra', '300c', '100', 'q3', 'cr_reihe', 'spark', 'x_type',\n",
       "       'ducato', 's_type', 'x_trail', 'toledo', 'altea', 'voyager',\n",
       "       'calibra', 'v70', 'bravo', 'range_rover', 'tucson', 'q7', 'c1',\n",
       "       'citigo', 'jimny', 'cx_reihe', 'cayenne', 'wrangler', 'lybra',\n",
       "       'range_rover_sport', 'lancer', 'freelander', 'captiva',\n",
       "       'range_rover_evoque', 'sandero', 'note', 'antara', '900',\n",
       "       'defender', 'cherokee', 'clubman', 'legacy', 'pajero', 'auris',\n",
       "       'c2', 'niva', 's60', 'nubira', 'vivaro', 'g_klasse', 'lodgy', '601',\n",
       "       '850', 'serie_2', 'charade', 'croma', 'outlander', 'gl', 'doblo',\n",
       "       'musa', 'amarok', '9000', 'kalos', 'v60', '200', '145', 'b_max',\n",
       "       'delta', 'aveo', 'move', 'rangerover', 'materia', 'terios',\n",
       "       'kalina', 'elefantino', 'i3', 'samara', 'kappa', 'serie_3',\n",
       "       'discovery_sport'], dtype=object)"
      ]
     },
     "execution_count": 37,
     "metadata": {},
     "output_type": "execute_result"
    }
   ],
   "source": [
    "df_model.model.unique()"
   ]
  },
  {
   "cell_type": "markdown",
   "metadata": {},
   "source": [
    "As shown above, the **'brand'** and **'model'** field have lots of values and they are very important features for us to determine price. Hence I used the sklearn library's preprocessor Label encoder to give these fields numeric values."
   ]
  },
  {
   "cell_type": "code",
   "execution_count": 38,
   "metadata": {
    "collapsed": true
   },
   "outputs": [],
   "source": [
    "nonNumericFields = ['model', 'brand']\n",
    "temp = {}\n",
    "\n",
    "## using for loop to change fields for both of the features simultaneously \n",
    "for field in nonNumericFields:\n",
    "    temp[field] = preprocessing.LabelEncoder()\n",
    "    temp[field].fit(df_model[field])\n",
    "    transformedValue = temp[field].transform(df_model[field]) \n",
    "    df_model.loc[:, field] = pd.Series(transformedValue, index=df_model.index)"
   ]
  },
  {
   "cell_type": "code",
   "execution_count": 39,
   "metadata": {},
   "outputs": [
    {
     "data": {
      "text/html": [
       "<div>\n",
       "<style>\n",
       "    .dataframe thead tr:only-child th {\n",
       "        text-align: right;\n",
       "    }\n",
       "\n",
       "    .dataframe thead th {\n",
       "        text-align: left;\n",
       "    }\n",
       "\n",
       "    .dataframe tbody tr th {\n",
       "        vertical-align: top;\n",
       "    }\n",
       "</style>\n",
       "<table border=\"1\" class=\"dataframe\">\n",
       "  <thead>\n",
       "    <tr style=\"text-align: right;\">\n",
       "      <th></th>\n",
       "      <th>price</th>\n",
       "      <th>vehicleType</th>\n",
       "      <th>yearOfRegistration</th>\n",
       "      <th>gearbox</th>\n",
       "      <th>powerPS</th>\n",
       "      <th>model</th>\n",
       "      <th>kilometer</th>\n",
       "      <th>monthOfRegistration</th>\n",
       "      <th>fuelType</th>\n",
       "      <th>brand</th>\n",
       "      <th>notRepairedDamage</th>\n",
       "      <th>namelength</th>\n",
       "    </tr>\n",
       "  </thead>\n",
       "  <tbody>\n",
       "    <tr>\n",
       "      <th>1</th>\n",
       "      <td>18300.0</td>\n",
       "      <td>0</td>\n",
       "      <td>2011.0</td>\n",
       "      <td>1</td>\n",
       "      <td>190.0</td>\n",
       "      <td>163</td>\n",
       "      <td>125000.0</td>\n",
       "      <td>5.0</td>\n",
       "      <td>0</td>\n",
       "      <td>2</td>\n",
       "      <td>0</td>\n",
       "      <td>20</td>\n",
       "    </tr>\n",
       "    <tr>\n",
       "      <th>2</th>\n",
       "      <td>9800.0</td>\n",
       "      <td>1</td>\n",
       "      <td>2004.0</td>\n",
       "      <td>0</td>\n",
       "      <td>163.0</td>\n",
       "      <td>120</td>\n",
       "      <td>125000.0</td>\n",
       "      <td>8.0</td>\n",
       "      <td>0</td>\n",
       "      <td>14</td>\n",
       "      <td>1</td>\n",
       "      <td>30</td>\n",
       "    </tr>\n",
       "    <tr>\n",
       "      <th>3</th>\n",
       "      <td>1500.0</td>\n",
       "      <td>2</td>\n",
       "      <td>2001.0</td>\n",
       "      <td>1</td>\n",
       "      <td>75.0</td>\n",
       "      <td>119</td>\n",
       "      <td>150000.0</td>\n",
       "      <td>6.0</td>\n",
       "      <td>1</td>\n",
       "      <td>38</td>\n",
       "      <td>2</td>\n",
       "      <td>18</td>\n",
       "    </tr>\n",
       "    <tr>\n",
       "      <th>4</th>\n",
       "      <td>3600.0</td>\n",
       "      <td>2</td>\n",
       "      <td>2008.0</td>\n",
       "      <td>1</td>\n",
       "      <td>69.0</td>\n",
       "      <td>104</td>\n",
       "      <td>90000.0</td>\n",
       "      <td>7.0</td>\n",
       "      <td>0</td>\n",
       "      <td>31</td>\n",
       "      <td>2</td>\n",
       "      <td>30</td>\n",
       "    </tr>\n",
       "    <tr>\n",
       "      <th>5</th>\n",
       "      <td>650.0</td>\n",
       "      <td>3</td>\n",
       "      <td>1995.0</td>\n",
       "      <td>1</td>\n",
       "      <td>102.0</td>\n",
       "      <td>11</td>\n",
       "      <td>150000.0</td>\n",
       "      <td>10.0</td>\n",
       "      <td>1</td>\n",
       "      <td>3</td>\n",
       "      <td>0</td>\n",
       "      <td>50</td>\n",
       "    </tr>\n",
       "  </tbody>\n",
       "</table>\n",
       "</div>"
      ],
      "text/plain": [
       "     price  vehicleType  yearOfRegistration  gearbox  powerPS  model  \\\n",
       "1  18300.0            0              2011.0        1    190.0    163   \n",
       "2   9800.0            1              2004.0        0    163.0    120   \n",
       "3   1500.0            2              2001.0        1     75.0    119   \n",
       "4   3600.0            2              2008.0        1     69.0    104   \n",
       "5    650.0            3              1995.0        1    102.0     11   \n",
       "\n",
       "   kilometer  monthOfRegistration  fuelType  brand  notRepairedDamage  \\\n",
       "1   125000.0                  5.0         0      2                  0   \n",
       "2   125000.0                  8.0         0     14                  1   \n",
       "3   150000.0                  6.0         1     38                  2   \n",
       "4    90000.0                  7.0         0     31                  2   \n",
       "5   150000.0                 10.0         1      3                  0   \n",
       "\n",
       "   namelength  \n",
       "1          20  \n",
       "2          30  \n",
       "3          18  \n",
       "4          30  \n",
       "5          50  "
      ]
     },
     "execution_count": 39,
     "metadata": {},
     "output_type": "execute_result"
    }
   ],
   "source": [
    "##new dataframe with all the values in numbers\n",
    "df_model.head()"
   ]
  },
  {
   "cell_type": "code",
   "execution_count": 40,
   "metadata": {},
   "outputs": [
    {
     "data": {
      "text/html": [
       "<div>\n",
       "<style>\n",
       "    .dataframe thead tr:only-child th {\n",
       "        text-align: right;\n",
       "    }\n",
       "\n",
       "    .dataframe thead th {\n",
       "        text-align: left;\n",
       "    }\n",
       "\n",
       "    .dataframe tbody tr th {\n",
       "        vertical-align: top;\n",
       "    }\n",
       "</style>\n",
       "<table border=\"1\" class=\"dataframe\">\n",
       "  <thead>\n",
       "    <tr style=\"text-align: right;\">\n",
       "      <th></th>\n",
       "      <th>price</th>\n",
       "      <th>vehicleType</th>\n",
       "      <th>yearOfRegistration</th>\n",
       "      <th>gearbox</th>\n",
       "      <th>powerPS</th>\n",
       "      <th>model</th>\n",
       "      <th>kilometer</th>\n",
       "      <th>monthOfRegistration</th>\n",
       "      <th>fuelType</th>\n",
       "      <th>brand</th>\n",
       "      <th>notRepairedDamage</th>\n",
       "      <th>namelength</th>\n",
       "    </tr>\n",
       "  </thead>\n",
       "  <tbody>\n",
       "    <tr>\n",
       "      <th>1</th>\n",
       "      <td>18300.0</td>\n",
       "      <td>coupe</td>\n",
       "      <td>2011.0</td>\n",
       "      <td>Manual</td>\n",
       "      <td>190.0</td>\n",
       "      <td>no-value</td>\n",
       "      <td>125000.0</td>\n",
       "      <td>5.0</td>\n",
       "      <td>diesel</td>\n",
       "      <td>audi</td>\n",
       "      <td>Yes</td>\n",
       "      <td>20</td>\n",
       "    </tr>\n",
       "    <tr>\n",
       "      <th>2</th>\n",
       "      <td>9800.0</td>\n",
       "      <td>suv</td>\n",
       "      <td>2004.0</td>\n",
       "      <td>Automatic</td>\n",
       "      <td>163.0</td>\n",
       "      <td>grand</td>\n",
       "      <td>125000.0</td>\n",
       "      <td>8.0</td>\n",
       "      <td>diesel</td>\n",
       "      <td>jeep</td>\n",
       "      <td>no-value</td>\n",
       "      <td>30</td>\n",
       "    </tr>\n",
       "    <tr>\n",
       "      <th>3</th>\n",
       "      <td>1500.0</td>\n",
       "      <td>Small car</td>\n",
       "      <td>2001.0</td>\n",
       "      <td>Manual</td>\n",
       "      <td>75.0</td>\n",
       "      <td>golf</td>\n",
       "      <td>150000.0</td>\n",
       "      <td>6.0</td>\n",
       "      <td>petrol</td>\n",
       "      <td>volkswagen</td>\n",
       "      <td>No</td>\n",
       "      <td>18</td>\n",
       "    </tr>\n",
       "    <tr>\n",
       "      <th>4</th>\n",
       "      <td>3600.0</td>\n",
       "      <td>Small car</td>\n",
       "      <td>2008.0</td>\n",
       "      <td>Manual</td>\n",
       "      <td>69.0</td>\n",
       "      <td>fabia</td>\n",
       "      <td>90000.0</td>\n",
       "      <td>7.0</td>\n",
       "      <td>diesel</td>\n",
       "      <td>skoda</td>\n",
       "      <td>No</td>\n",
       "      <td>30</td>\n",
       "    </tr>\n",
       "    <tr>\n",
       "      <th>5</th>\n",
       "      <td>650.0</td>\n",
       "      <td>limousine</td>\n",
       "      <td>1995.0</td>\n",
       "      <td>Manual</td>\n",
       "      <td>102.0</td>\n",
       "      <td>3er</td>\n",
       "      <td>150000.0</td>\n",
       "      <td>10.0</td>\n",
       "      <td>petrol</td>\n",
       "      <td>bmw</td>\n",
       "      <td>Yes</td>\n",
       "      <td>50</td>\n",
       "    </tr>\n",
       "  </tbody>\n",
       "</table>\n",
       "</div>"
      ],
      "text/plain": [
       "     price vehicleType  yearOfRegistration    gearbox  powerPS     model  \\\n",
       "1  18300.0       coupe              2011.0     Manual    190.0  no-value   \n",
       "2   9800.0         suv              2004.0  Automatic    163.0     grand   \n",
       "3   1500.0   Small car              2001.0     Manual     75.0      golf   \n",
       "4   3600.0   Small car              2008.0     Manual     69.0     fabia   \n",
       "5    650.0   limousine              1995.0     Manual    102.0       3er   \n",
       "\n",
       "   kilometer  monthOfRegistration fuelType       brand notRepairedDamage  \\\n",
       "1   125000.0                  5.0   diesel        audi               Yes   \n",
       "2   125000.0                  8.0   diesel        jeep          no-value   \n",
       "3   150000.0                  6.0   petrol  volkswagen                No   \n",
       "4    90000.0                  7.0   diesel       skoda                No   \n",
       "5   150000.0                 10.0   petrol         bmw               Yes   \n",
       "\n",
       "   namelength  \n",
       "1          20  \n",
       "2          30  \n",
       "3          18  \n",
       "4          30  \n",
       "5          50  "
      ]
     },
     "execution_count": 40,
     "metadata": {},
     "output_type": "execute_result"
    }
   ],
   "source": [
    "##original dataframe\n",
    "df_clean.head()"
   ]
  },
  {
   "cell_type": "markdown",
   "metadata": {},
   "source": [
    "**Final Dataframe -  \"df_model\"  which will be used for predicting price**"
   ]
  },
  {
   "cell_type": "code",
   "execution_count": 41,
   "metadata": {},
   "outputs": [
    {
     "data": {
      "text/html": [
       "<div>\n",
       "<style>\n",
       "    .dataframe thead tr:only-child th {\n",
       "        text-align: right;\n",
       "    }\n",
       "\n",
       "    .dataframe thead th {\n",
       "        text-align: left;\n",
       "    }\n",
       "\n",
       "    .dataframe tbody tr th {\n",
       "        vertical-align: top;\n",
       "    }\n",
       "</style>\n",
       "<table border=\"1\" class=\"dataframe\">\n",
       "  <thead>\n",
       "    <tr style=\"text-align: right;\">\n",
       "      <th></th>\n",
       "      <th>price</th>\n",
       "      <th>vehicleType</th>\n",
       "      <th>yearOfRegistration</th>\n",
       "      <th>gearbox</th>\n",
       "      <th>powerPS</th>\n",
       "      <th>model</th>\n",
       "      <th>kilometer</th>\n",
       "      <th>monthOfRegistration</th>\n",
       "      <th>fuelType</th>\n",
       "      <th>brand</th>\n",
       "      <th>notRepairedDamage</th>\n",
       "      <th>namelength</th>\n",
       "    </tr>\n",
       "  </thead>\n",
       "  <tbody>\n",
       "    <tr>\n",
       "      <th>1</th>\n",
       "      <td>18300.0</td>\n",
       "      <td>0</td>\n",
       "      <td>2011.0</td>\n",
       "      <td>1</td>\n",
       "      <td>190.0</td>\n",
       "      <td>163</td>\n",
       "      <td>125000.0</td>\n",
       "      <td>5.0</td>\n",
       "      <td>0</td>\n",
       "      <td>2</td>\n",
       "      <td>0</td>\n",
       "      <td>20</td>\n",
       "    </tr>\n",
       "    <tr>\n",
       "      <th>2</th>\n",
       "      <td>9800.0</td>\n",
       "      <td>1</td>\n",
       "      <td>2004.0</td>\n",
       "      <td>0</td>\n",
       "      <td>163.0</td>\n",
       "      <td>120</td>\n",
       "      <td>125000.0</td>\n",
       "      <td>8.0</td>\n",
       "      <td>0</td>\n",
       "      <td>14</td>\n",
       "      <td>1</td>\n",
       "      <td>30</td>\n",
       "    </tr>\n",
       "    <tr>\n",
       "      <th>3</th>\n",
       "      <td>1500.0</td>\n",
       "      <td>2</td>\n",
       "      <td>2001.0</td>\n",
       "      <td>1</td>\n",
       "      <td>75.0</td>\n",
       "      <td>119</td>\n",
       "      <td>150000.0</td>\n",
       "      <td>6.0</td>\n",
       "      <td>1</td>\n",
       "      <td>38</td>\n",
       "      <td>2</td>\n",
       "      <td>18</td>\n",
       "    </tr>\n",
       "    <tr>\n",
       "      <th>4</th>\n",
       "      <td>3600.0</td>\n",
       "      <td>2</td>\n",
       "      <td>2008.0</td>\n",
       "      <td>1</td>\n",
       "      <td>69.0</td>\n",
       "      <td>104</td>\n",
       "      <td>90000.0</td>\n",
       "      <td>7.0</td>\n",
       "      <td>0</td>\n",
       "      <td>31</td>\n",
       "      <td>2</td>\n",
       "      <td>30</td>\n",
       "    </tr>\n",
       "    <tr>\n",
       "      <th>5</th>\n",
       "      <td>650.0</td>\n",
       "      <td>3</td>\n",
       "      <td>1995.0</td>\n",
       "      <td>1</td>\n",
       "      <td>102.0</td>\n",
       "      <td>11</td>\n",
       "      <td>150000.0</td>\n",
       "      <td>10.0</td>\n",
       "      <td>1</td>\n",
       "      <td>3</td>\n",
       "      <td>0</td>\n",
       "      <td>50</td>\n",
       "    </tr>\n",
       "  </tbody>\n",
       "</table>\n",
       "</div>"
      ],
      "text/plain": [
       "     price  vehicleType  yearOfRegistration  gearbox  powerPS  model  \\\n",
       "1  18300.0            0              2011.0        1    190.0    163   \n",
       "2   9800.0            1              2004.0        0    163.0    120   \n",
       "3   1500.0            2              2001.0        1     75.0    119   \n",
       "4   3600.0            2              2008.0        1     69.0    104   \n",
       "5    650.0            3              1995.0        1    102.0     11   \n",
       "\n",
       "   kilometer  monthOfRegistration  fuelType  brand  notRepairedDamage  \\\n",
       "1   125000.0                  5.0         0      2                  0   \n",
       "2   125000.0                  8.0         0     14                  1   \n",
       "3   150000.0                  6.0         1     38                  2   \n",
       "4    90000.0                  7.0         0     31                  2   \n",
       "5   150000.0                 10.0         1      3                  0   \n",
       "\n",
       "   namelength  \n",
       "1          20  \n",
       "2          30  \n",
       "3          18  \n",
       "4          30  \n",
       "5          50  "
      ]
     },
     "execution_count": 41,
     "metadata": {},
     "output_type": "execute_result"
    }
   ],
   "source": [
    "df_model.head()"
   ]
  },
  {
   "cell_type": "markdown",
   "metadata": {},
   "source": [
    "<u><b>STEP 11: Checking correlation among features: </b></u>\n",
    "<br>\n",
    "This will help us in finding the correlation between the features and how they are related to the price."
   ]
  },
  {
   "cell_type": "code",
   "execution_count": 42,
   "metadata": {},
   "outputs": [
    {
     "data": {
      "image/png": "[encoded data removed]",
      "text/plain": [
       "<matplotlib.figure.Figure at 0x115241cf8>"
      ]
     },
     "metadata": {},
     "output_type": "display_data"
    }
   ],
   "source": [
    "correlation = df_model.corr()\n",
    "_ , ax = plt.subplots( figsize =( 12 , 12 ) )\n",
    "cmap = sns.diverging_palette( 220 , 10 , as_cmap = True )\n",
    "heatmap = sns.heatmap(\n",
    "    correlation, \n",
    "    cmap = cmap,\n",
    "    square=True, \n",
    "    cbar_kws={ 'shrink' : .9 }, \n",
    "    ax=ax, \n",
    "    annot = True, \n",
    "    annot_kws = { 'fontsize' : 12 }\n",
    ")"
   ]
  },
  {
   "cell_type": "markdown",
   "metadata": {},
   "source": [
    "**This helps in determining the importance of the factors while attemting to predict the price.**\n",
    "<br>\n",
    "<br>\n",
    "**Following is the most influencing features for predicting the price:**"
   ]
  },
  {
   "cell_type": "code",
   "execution_count": 43,
   "metadata": {
    "scrolled": true
   },
   "outputs": [
    {
     "data": {
      "text/plain": [
       "powerPS                0.573032\n",
       "kilometer              0.444446\n",
       "yearOfRegistration     0.385270\n",
       "gearbox                0.297727\n",
       "notRepairedDamage      0.213491\n",
       "namelength             0.185848\n",
       "fuelType               0.160075\n",
       "brand                  0.107771\n",
       "vehicleType            0.058739\n",
       "monthOfRegistration    0.044783\n",
       "model                  0.013941\n",
       "Name: price, dtype: float64"
      ]
     },
     "execution_count": 43,
     "metadata": {},
     "output_type": "execute_result"
    }
   ],
   "source": [
    "df_model.corr().loc[:,'price'].abs().sort_values(ascending=False)[1:]"
   ]
  },
  {
   "cell_type": "markdown",
   "metadata": {},
   "source": [
    "<u><b>STEP 12: Prepare data for training and testing: </b></u>\n",
    "<br>\n",
    "Preparing train and test data and finetuning the price coloumn."
   ]
  },
  {
   "cell_type": "code",
   "execution_count": 44,
   "metadata": {
    "collapsed": true
   },
   "outputs": [],
   "source": [
    "##converting the price values into natural log of those values - to make it easier for the calculation\n",
    "Y = np.log1p(df_model['price'])\n",
    "## X will have every other field except 'Price'\n",
    "X = df_model.drop(['price'], axis='columns', inplace=False)\n"
   ]
  },
  {
   "cell_type": "code",
   "execution_count": 45,
   "metadata": {},
   "outputs": [
    {
     "name": "stdout",
     "output_type": "stream",
     "text": [
      "(228101, 11) (76034, 11) (228101,) (76034,)\n"
     ]
    }
   ],
   "source": [
    "from sklearn.linear_model import Ridge, RidgeCV, ElasticNet, Lasso, LassoCV, LassoLarsCV\n",
    "from sklearn.model_selection import cross_val_score, train_test_split\n",
    "\n",
    "\n",
    "# Percent of the X array to use as training set. This implies that the rest will be test set\n",
    "test_size = .25\n",
    "\n",
    "#Split into train and validation\n",
    "X_train, X_test, y_train, y_test = train_test_split(X, Y, test_size=test_size, random_state = 0)\n",
    "print(X_train.shape, X_test.shape, y_train.shape, y_test.shape)"
   ]
  },
  {
   "cell_type": "markdown",
   "metadata": {},
   "source": [
    "<u><b>STEP 13: Using the Random Forest Algorithm to predict the price</b></u>\n"
   ]
  },
  {
   "cell_type": "code",
   "execution_count": 46,
   "metadata": {},
   "outputs": [
    {
     "name": "stdout",
     "output_type": "stream",
     "text": [
      "Fitting 2 folds for each of 1 candidates, totalling 2 fits\n"
     ]
    },
    {
     "name": "stderr",
     "output_type": "stream",
     "text": [
      "[Parallel(n_jobs=-1)]: Done   2 out of   2 | elapsed:  2.1min finished\n"
     ]
    }
   ],
   "source": [
    "from sklearn.ensemble import RandomForestRegressor\n",
    "from sklearn.model_selection import GridSearchCV\n",
    "\n",
    "rf = RandomForestRegressor()\n",
    "\n",
    "param_grid = { \"criterion\" : [\"mse\"]\n",
    "              , \"min_samples_leaf\" : [3]\n",
    "              , \"min_samples_split\" : [3]\n",
    "              , \"max_depth\": [10]\n",
    "              , \"n_estimators\": [500]}\n",
    "\n",
    "clf = GridSearchCV(estimator=rf, param_grid=param_grid, cv=2, n_jobs=-1, verbose=1)\n",
    "clf = clf.fit(X_train, y_train)"
   ]
  },
  {
   "cell_type": "code",
   "execution_count": 47,
   "metadata": {},
   "outputs": [
    {
     "name": "stdout",
     "output_type": "stream",
     "text": [
      "Train Accuracy Score: 0.829013288714\n",
      "Best Parameters: {'criterion': 'mse', 'max_depth': 10, 'min_samples_leaf': 3, 'min_samples_split': 3, 'n_estimators': 500}\n"
     ]
    }
   ],
   "source": [
    "print('Train Accuracy Score:', clf.best_score_)\n",
    "print('Best Parameters:' , clf.best_params_)"
   ]
  },
  {
   "cell_type": "code",
   "execution_count": 48,
   "metadata": {},
   "outputs": [
    {
     "name": "stdout",
     "output_type": "stream",
     "text": [
      "Test Accuracy Score: 0.825748511155\n"
     ]
    }
   ],
   "source": [
    "bp = clf.best_params_\n",
    "model = RandomForestRegressor(criterion=bp['criterion'],\n",
    "                              min_samples_leaf=bp['min_samples_leaf'],\n",
    "                              min_samples_split=bp['min_samples_split'],\n",
    "                              max_depth=bp['max_depth'],\n",
    "                              n_estimators=bp['n_estimators'])\n",
    "model.fit(X_train, y_train)\n",
    "\n",
    "print('Test Accuracy Score:',  model.score(X_test, y_test))"
   ]
  },
  {
   "cell_type": "markdown",
   "metadata": {},
   "source": [
    "<u><b>STEP 13: Predicting the price for test data and plotting it with actual price to see the pattern</b></u>"
   ]
  },
  {
   "cell_type": "code",
   "execution_count": 49,
   "metadata": {},
   "outputs": [
    {
     "data": {
      "text/html": [
       "<div>\n",
       "<style>\n",
       "    .dataframe thead tr:only-child th {\n",
       "        text-align: right;\n",
       "    }\n",
       "\n",
       "    .dataframe thead th {\n",
       "        text-align: left;\n",
       "    }\n",
       "\n",
       "    .dataframe tbody tr th {\n",
       "        vertical-align: top;\n",
       "    }\n",
       "</style>\n",
       "<table border=\"1\" class=\"dataframe\">\n",
       "  <thead>\n",
       "    <tr style=\"text-align: right;\">\n",
       "      <th></th>\n",
       "      <th>price</th>\n",
       "      <th>vehicleType</th>\n",
       "      <th>yearOfRegistration</th>\n",
       "      <th>gearbox</th>\n",
       "      <th>powerPS</th>\n",
       "      <th>model</th>\n",
       "      <th>kilometer</th>\n",
       "      <th>monthOfRegistration</th>\n",
       "      <th>fuelType</th>\n",
       "      <th>brand</th>\n",
       "      <th>notRepairedDamage</th>\n",
       "      <th>namelength</th>\n",
       "    </tr>\n",
       "  </thead>\n",
       "  <tbody>\n",
       "    <tr>\n",
       "      <th>1</th>\n",
       "      <td>18300.0</td>\n",
       "      <td>0</td>\n",
       "      <td>2011.0</td>\n",
       "      <td>1</td>\n",
       "      <td>190.0</td>\n",
       "      <td>163</td>\n",
       "      <td>125000.0</td>\n",
       "      <td>5.0</td>\n",
       "      <td>0</td>\n",
       "      <td>2</td>\n",
       "      <td>0</td>\n",
       "      <td>20</td>\n",
       "    </tr>\n",
       "    <tr>\n",
       "      <th>2</th>\n",
       "      <td>9800.0</td>\n",
       "      <td>1</td>\n",
       "      <td>2004.0</td>\n",
       "      <td>0</td>\n",
       "      <td>163.0</td>\n",
       "      <td>120</td>\n",
       "      <td>125000.0</td>\n",
       "      <td>8.0</td>\n",
       "      <td>0</td>\n",
       "      <td>14</td>\n",
       "      <td>1</td>\n",
       "      <td>30</td>\n",
       "    </tr>\n",
       "    <tr>\n",
       "      <th>3</th>\n",
       "      <td>1500.0</td>\n",
       "      <td>2</td>\n",
       "      <td>2001.0</td>\n",
       "      <td>1</td>\n",
       "      <td>75.0</td>\n",
       "      <td>119</td>\n",
       "      <td>150000.0</td>\n",
       "      <td>6.0</td>\n",
       "      <td>1</td>\n",
       "      <td>38</td>\n",
       "      <td>2</td>\n",
       "      <td>18</td>\n",
       "    </tr>\n",
       "    <tr>\n",
       "      <th>4</th>\n",
       "      <td>3600.0</td>\n",
       "      <td>2</td>\n",
       "      <td>2008.0</td>\n",
       "      <td>1</td>\n",
       "      <td>69.0</td>\n",
       "      <td>104</td>\n",
       "      <td>90000.0</td>\n",
       "      <td>7.0</td>\n",
       "      <td>0</td>\n",
       "      <td>31</td>\n",
       "      <td>2</td>\n",
       "      <td>30</td>\n",
       "    </tr>\n",
       "    <tr>\n",
       "      <th>5</th>\n",
       "      <td>650.0</td>\n",
       "      <td>3</td>\n",
       "      <td>1995.0</td>\n",
       "      <td>1</td>\n",
       "      <td>102.0</td>\n",
       "      <td>11</td>\n",
       "      <td>150000.0</td>\n",
       "      <td>10.0</td>\n",
       "      <td>1</td>\n",
       "      <td>3</td>\n",
       "      <td>0</td>\n",
       "      <td>50</td>\n",
       "    </tr>\n",
       "  </tbody>\n",
       "</table>\n",
       "</div>"
      ],
      "text/plain": [
       "     price  vehicleType  yearOfRegistration  gearbox  powerPS  model  \\\n",
       "1  18300.0            0              2011.0        1    190.0    163   \n",
       "2   9800.0            1              2004.0        0    163.0    120   \n",
       "3   1500.0            2              2001.0        1     75.0    119   \n",
       "4   3600.0            2              2008.0        1     69.0    104   \n",
       "5    650.0            3              1995.0        1    102.0     11   \n",
       "\n",
       "   kilometer  monthOfRegistration  fuelType  brand  notRepairedDamage  \\\n",
       "1   125000.0                  5.0         0      2                  0   \n",
       "2   125000.0                  8.0         0     14                  1   \n",
       "3   150000.0                  6.0         1     38                  2   \n",
       "4    90000.0                  7.0         0     31                  2   \n",
       "5   150000.0                 10.0         1      3                  0   \n",
       "\n",
       "   namelength  \n",
       "1          20  \n",
       "2          30  \n",
       "3          18  \n",
       "4          30  \n",
       "5          50  "
      ]
     },
     "execution_count": 49,
     "metadata": {},
     "output_type": "execute_result"
    }
   ],
   "source": [
    "df_model.head()"
   ]
  },
  {
   "cell_type": "markdown",
   "metadata": {},
   "source": [
    "**Trying to predict the price of a car, by manually inputing values for each of the features (except price - as the 'model' doesn't include the feature 'Price') in the dataframe shown above.**"
   ]
  },
  {
   "cell_type": "code",
   "execution_count": 50,
   "metadata": {},
   "outputs": [
    {
     "name": "stdout",
     "output_type": "stream",
     "text": [
      "Price= $ [ 5655.49079842]\n"
     ]
    }
   ],
   "source": [
    "y_pred= model.predict([[1,2012,1,75,120,90000,5,3,2,1,15]])\n",
    "print (\"Price= $\" , np.expm1(y_pred))"
   ]
  },
  {
   "cell_type": "code",
   "execution_count": 51,
   "metadata": {},
   "outputs": [
    {
     "name": "stdout",
     "output_type": "stream",
     "text": [
      "[ 8.54711494  7.61683416  7.07925312 ...,  7.33335654  6.69514081\n",
      "  9.94424941]\n"
     ]
    }
   ],
   "source": [
    "y_pred= model.predict(X_test)\n",
    "print (y_pred)"
   ]
  },
  {
   "cell_type": "code",
   "execution_count": 52,
   "metadata": {},
   "outputs": [
    {
     "data": {
      "image/png": "[encoded data removed]",
      "text/plain": [
       "<matplotlib.figure.Figure at 0x112a17898>"
      ]
     },
     "metadata": {},
     "output_type": "display_data"
    }
   ],
   "source": [
    "plt.figure(figsize=(10, 10))\n",
    "plt.scatter(y_test, y_pred, s=20)\n",
    "plt.title('Predicted vs. Actual')\n",
    "plt.xlabel('Actual  Price')\n",
    "plt.ylabel('Predicted Price')\n",
    "\n",
    "plt.plot([min(y_test), max(y_test)], [min(y_test), max(y_test)])\n",
    "plt.tight_layout()"
   ]
  },
  {
   "cell_type": "markdown",
   "metadata": {
    "collapsed": true
   },
   "source": [
    "## Conclusion:\n",
    "The above made chart shows that the predicted price value aligns with the actual price value to quite an extent. Hence, the model is good enough to predict the price of the used cars."
   ]
  }
 ],
 "metadata": {
  "kernelspec": {
   "display_name": "Python 3",
   "language": "python",
   "name": "python3"
  },
  "language_info": {
   "codemirror_mode": {
    "name": "ipython",
    "version": 3
   },
   "file_extension": ".py",
   "mimetype": "text/x-python",
   "name": "python",
   "nbconvert_exporter": "python",
   "pygments_lexer": "ipython3",
   "version": "3.6.3"
  }
 },
 "nbformat": 4,
 "nbformat_minor": 2
}
